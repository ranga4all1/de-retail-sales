{
 "cells": [
  {
   "cell_type": "markdown",
   "id": "f8048a29-f12b-4804-a23d-ebf1db9c7de7",
   "metadata": {},
   "source": [
    "# Spark - Batch processing\n",
    "\n",
    "## Create spark session"
   ]
  },
  {
   "cell_type": "code",
   "execution_count": 1,
   "id": "df53336b-df90-4a86-8d2d-c2a38907e80d",
   "metadata": {},
   "outputs": [
    {
     "name": "stderr",
     "output_type": "stream",
     "text": [
      "24/03/23 01:28:52 WARN Utils: Your hostname, codespaces-eeb36d resolves to a loopback address: 127.0.0.1; using 172.16.5.4 instead (on interface eth0)\n",
      "24/03/23 01:28:52 WARN Utils: Set SPARK_LOCAL_IP if you need to bind to another address\n",
      "24/03/23 01:28:52 WARN NativeCodeLoader: Unable to load native-hadoop library for your platform... using builtin-java classes where applicable\n",
      "Setting default log level to \"WARN\".\n",
      "To adjust logging level use sc.setLogLevel(newLevel). For SparkR, use setLogLevel(newLevel).\n"
     ]
    }
   ],
   "source": [
    "import pyspark\n",
    "from pyspark.sql import SparkSession\n",
    "from pyspark.conf import SparkConf\n",
    "from pyspark.context import SparkContext\n",
    "\n",
    "credentials_location = '/workspaces/de-retail-sales/creds/my-creds.json'\n",
    "project_id = 'woven-edge-412500'\n",
    "\n",
    "conf = SparkConf() \\\n",
    "    .setMaster('local[*]') \\\n",
    "    .setAppName('gcs_bigquery') \\\n",
    "    .set(\"spark.jars\", \"/home/codespace/bin/gcs-connector-hadoop3-latest.jar, /home/codespace/bin/spark-3.1-bigquery-0.36.1.jar\") \\\n",
    "    .set(\"spark.hadoop.google.cloud.auth.service.account.enable\", \"true\") \\\n",
    "    .set(\"spark.hadoop.google.cloud.auth.service.account.json.keyfile\", credentials_location) \\\n",
    "    .set(\"spark.hadoop.google.cloud.auth.project.id\", project_id)\n",
    "\n",
    "sc = SparkContext(conf=conf)\n",
    "\n",
    "hadoop_conf = sc._jsc.hadoopConfiguration()\n",
    "\n",
    "hadoop_conf.set(\"fs.AbstractFileSystem.gs.impl\", \"com.google.cloud.hadoop.fs.gcs.GoogleHadoopFS\")\n",
    "hadoop_conf.set(\"fs.gs.impl\", \"com.google.cloud.hadoop.fs.gcs.GoogleHadoopFileSystem\")\n",
    "hadoop_conf.set(\"fs.gs.auth.service.account.json.keyfile\", credentials_location)\n",
    "hadoop_conf.set(\"fs.gs.auth.service.account.enable\", \"true\")\n",
    "\n",
    "spark = SparkSession.builder \\\n",
    "    .config(conf=sc.getConf()) \\\n",
    "    .config(\"spark.sql.extensions\", \"com.google.cloud.spark.bigquery.BigQuerySparkRegistrator\") \\\n",
    "    .config(\"spark.hadoop.fs.gs.impl\", \"com.google.cloud.hadoop.fs.gcs.GoogleHadoopFileSystem\") \\\n",
    "    .config(\"spark.hadoop.google.cloud.auth.service.account.json.keyfile\", credentials_location) \\\n",
    "    .config(\"spark.hadoop.google.cloud.auth.service.account.enable\", \"true\") \\\n",
    "    .config(\"spark.hadoop.google.cloud.auth.project.id\", project_id) \\\n",
    "    .getOrCreate()\n"
   ]
  },
  {
   "cell_type": "code",
   "execution_count": 2,
   "id": "d107bdcc-aa96-4735-b722-3ea8f35ce163",
   "metadata": {},
   "outputs": [
    {
     "data": {
      "text/html": [
       "\n",
       "            <div>\n",
       "                <p><b>SparkSession - in-memory</b></p>\n",
       "                \n",
       "        <div>\n",
       "            <p><b>SparkContext</b></p>\n",
       "\n",
       "            <p><a href=\"http://7fbfb352-b6bf-48ba-96a8-05bc21c0d061.internal.cloudapp.net:4040\">Spark UI</a></p>\n",
       "\n",
       "            <dl>\n",
       "              <dt>Version</dt>\n",
       "                <dd><code>v3.5.1</code></dd>\n",
       "              <dt>Master</dt>\n",
       "                <dd><code>local[*]</code></dd>\n",
       "              <dt>AppName</dt>\n",
       "                <dd><code>gcs_bigquery</code></dd>\n",
       "            </dl>\n",
       "        </div>\n",
       "        \n",
       "            </div>\n",
       "        "
      ],
      "text/plain": [
       "<pyspark.sql.session.SparkSession at 0x7f2974d3e350>"
      ]
     },
     "execution_count": 2,
     "metadata": {},
     "output_type": "execute_result"
    }
   ],
   "source": [
    "spark"
   ]
  },
  {
   "cell_type": "markdown",
   "id": "df3695c6-90e1-40d7-833d-0836ad32546c",
   "metadata": {},
   "source": [
    "## Load and process data from gcs bucket"
   ]
  },
  {
   "cell_type": "code",
   "execution_count": 3,
   "id": "4d557f88-5510-4b56-a783-d5780e8fdc0c",
   "metadata": {},
   "outputs": [
    {
     "name": "stderr",
     "output_type": "stream",
     "text": [
      "                                                                                \r"
     ]
    }
   ],
   "source": [
    "df = spark.read.parquet('gs://woven-edge-412500-de-retail-sales-bucket/retail_data/*')"
   ]
  },
  {
   "cell_type": "code",
   "execution_count": 4,
   "id": "fde01c3c-b47a-4193-a6e9-0b291251c6af",
   "metadata": {
    "scrolled": true
   },
   "outputs": [
    {
     "name": "stderr",
     "output_type": "stream",
     "text": [
      "                                                                                \r"
     ]
    },
    {
     "name": "stdout",
     "output_type": "stream",
     "text": [
      "+----+-----+--------------------+---------+--------------------+---------+------------+----------------+---------------+\n",
      "|year|month|            supplier|item_code|    item_description|item_type|retail_sales|retail_transfers|warehouse_sales|\n",
      "+----+-----+--------------------+---------+--------------------+---------+------------+----------------+---------------+\n",
      "|2020|    1|REPUBLIC NATIONAL...|   100009| BOOTLEG RED - 750ML|     WINE|         0.0|             0.0|            2.0|\n",
      "|2020|    1|           PWSWN INC|   100024|MOMENT DE PLAISIR...|     WINE|         0.0|             1.0|            4.0|\n",
      "|2020|    1|RELIABLE CHURCHIL...|     1001|S SMITH ORGANIC P...|     BEER|         0.0|             0.0|            1.0|\n",
      "|2020|    1|LANTERNA DISTRIBU...|   100145|SCHLINK HAUS KABI...|     WINE|         0.0|             0.0|            1.0|\n",
      "|2020|    1|DIONYSOS IMPORTS INC|   100293|SANTORINI GAVALA ...|     WINE|        0.82|             0.0|            0.0|\n",
      "|2020|    1|KYSELA PERE ET FI...|   100641|CORTENOVA VENETO ...|     WINE|        2.76|             0.0|            6.0|\n",
      "|2020|    1|SANTA MARGHERITA ...|   100749|SANTA MARGHERITA ...|     WINE|        0.08|             1.0|            1.0|\n",
      "|2020|    1|BROWN-FORMAN BEVE...|     1008|JACK DANIELS COUN...|     BEER|         0.0|             0.0|            2.0|\n",
      "|2020|    1|  JIM BEAM BRANDS CO|    10103|KNOB CREEK BOURBO...|   LIQUOR|        6.41|             4.0|            0.0|\n",
      "|2020|    1|INTERNATIONAL CEL...|   101117|   KSARA CAB - 750ML|     WINE|        0.33|             1.0|            2.0|\n",
      "|2020|    1|HEAVEN HILL DISTI...|    10120|J W DANT BOURBON ...|   LIQUOR|         1.7|             1.0|            0.0|\n",
      "|2020|    1|BACCHUS IMPORTERS...|    10123|NOTEWORTHY SMALL ...|   LIQUOR|        1.02|             0.0|            0.0|\n",
      "|2020|    1|BACCHUS IMPORTERS...|    10124|NOTEWORTHY SMALL ...|   LIQUOR|        0.68|             0.0|            0.0|\n",
      "|2020|    1|BACCHUS IMPORTERS...|    10125|NOTEWORTHY SMALL ...|   LIQUOR|        0.34|             0.0|            0.0|\n",
      "|2020|    1|MONSIEUR TOUTON S...|   101346|ALSACE WILLIAM GE...|     WINE|         0.0|             0.0|            2.0|\n",
      "|2020|    1|THE COUNTRY VINTN...|   101486|POLIZIANO ROSSO M...|     WINE|         0.0|             0.0|            1.0|\n",
      "|2020|    1|THE COUNTRY VINTN...|   101532|HATSUMAGO SAKE JU...|     WINE|        0.34|             1.0|            1.0|\n",
      "|2020|    1|     ROYAL WINE CORP|   101664|RAMON CORDOVA RIO...|     WINE|        0.16|             0.0|            2.0|\n",
      "|2020|    1|REPUBLIC NATIONAL...|   101702|MANISCHEWITZ CREA...|     WINE|         0.0|             0.0|            1.0|\n",
      "|2020|    1|     ROYAL WINE CORP|   101753|BARKAN CLASSIC PE...|     WINE|         0.0|             0.0|            3.0|\n",
      "+----+-----+--------------------+---------+--------------------+---------+------------+----------------+---------------+\n",
      "only showing top 20 rows\n",
      "\n"
     ]
    }
   ],
   "source": [
    "df.show()"
   ]
  },
  {
   "cell_type": "code",
   "execution_count": 5,
   "id": "79d228fe-ca6a-4c12-b904-f9f760b157af",
   "metadata": {},
   "outputs": [
    {
     "data": {
      "text/plain": [
       "307645"
      ]
     },
     "execution_count": 5,
     "metadata": {},
     "output_type": "execute_result"
    }
   ],
   "source": [
    "df.count()"
   ]
  },
  {
   "cell_type": "code",
   "execution_count": 6,
   "id": "c02d0529-9eb0-4f49-b37e-69857061c983",
   "metadata": {},
   "outputs": [],
   "source": [
    "import pandas as pd \n",
    "import argparse\n",
    "import logging\n",
    "\n",
    "from pyspark.sql.functions import monotonically_increasing_id\n",
    "\n",
    "logging.basicConfig(level=logging.INFO, \n",
    "                              format=\"%(asctime)s - %(name)s - %(levelname)s - %(message)s\")\n",
    "logger = logging.getLogger(__name__)"
   ]
  },
  {
   "cell_type": "code",
   "execution_count": 7,
   "id": "54c6c903-aef9-4e00-922c-8219ca2b4ee8",
   "metadata": {},
   "outputs": [
    {
     "name": "stderr",
     "output_type": "stream",
     "text": [
      "24/03/23 01:29:06 WARN GarbageCollectionMetrics: To enable non-built-in garbage collector(s) List(G1 Concurrent GC), users should configure it(them) to spark.eventLog.gcMetrics.youngGenerationGarbageCollectors or spark.eventLog.gcMetrics.oldGenerationGarbageCollectors\n",
      "                                                                                \r"
     ]
    },
    {
     "name": "stdout",
     "output_type": "stream",
     "text": [
      "+---------+-----------+-------+------------+----------------+---------------+\n",
      "|item_code|supplier_id|date_id|retail_sales|retail_transfers|warehouse_sales|\n",
      "+---------+-----------+-------+------------+----------------+---------------+\n",
      "|    12483|        286|     11|         0.0|             0.0|            8.0|\n",
      "|    12527|        268|     11|       12.67|            14.0|            0.0|\n",
      "|    12976|        386|     11|        1.75|             3.0|           24.0|\n",
      "|    13722|         68|     11|        0.24|             0.0|            0.0|\n",
      "|   166280|        157|     11|        1.05|             1.0|            2.0|\n",
      "|    17000|        217|     11|       29.29|            28.0|            3.0|\n",
      "|    18104|        275|     11|        1.01|             1.0|            0.0|\n",
      "|   185515|        376|     11|        1.32|             2.0|           26.0|\n",
      "|   232662|        265|     11|        0.24|             0.0|           13.0|\n",
      "|    23433|        353|     11|        31.5|            57.0|          141.0|\n",
      "|   238206|        376|     11|         0.0|             0.0|            2.0|\n",
      "|    29333|        286|     11|         0.0|             0.0|            3.0|\n",
      "|   300588|        211|     11|        1.96|             1.0|            7.0|\n",
      "|   303345|        376|     11|         0.0|             0.0|            4.0|\n",
      "|    31167|         33|     11|        3.75|             5.0|           29.0|\n",
      "|   312219|        295|     11|        1.24|             0.0|            0.0|\n",
      "|   313530|        206|     11|         0.0|             0.0|           15.0|\n",
      "|   317984|        376|     11|         0.0|             0.0|           19.0|\n",
      "|   325165|        170|     11|         0.0|             0.0|            9.0|\n",
      "|   339796|         48|     11|         0.0|             0.0|            5.0|\n",
      "+---------+-----------+-------+------------+----------------+---------------+\n",
      "only showing top 20 rows\n",
      "\n"
     ]
    },
    {
     "name": "stderr",
     "output_type": "stream",
     "text": [
      "                                                                                \r"
     ]
    },
    {
     "data": {
      "text/plain": [
       "307645"
      ]
     },
     "execution_count": 7,
     "metadata": {},
     "output_type": "execute_result"
    }
   ],
   "source": [
    "# Supplier Dimension Table Creation\n",
    "supplier_df = df.select(\"supplier\").dropDuplicates().withColumnRenamed(\"supplier\", \"SUPPLIER\").withColumn(\"supplier_id\", monotonically_increasing_id() + 1)\n",
    "\n",
    "# Item Dimension Table Creation\n",
    "item_df = df.selectExpr(\"item_code\", \"item_type\", \"item_description\").dropDuplicates().withColumnRenamed(\"item_code\", \"ITEM_CODE\")\n",
    "\n",
    "# Date Dimension Table Creation\n",
    "date_df = df.select(\"year\", \"month\").dropDuplicates().withColumnRenamed(\"year\", \"YEAR\").withColumnRenamed(\"month\", \"MONTH\").withColumn(\"DATE_ID\", monotonically_increasing_id() + 1)\n",
    "\n",
    "# Fact Table Creation\n",
    "fact_table = df.join(supplier_df, \"SUPPLIER\") \\\n",
    "    .join(item_df, df[\"item_code\"] == item_df[\"ITEM_CODE\"]) \\\n",
    "    .join(date_df, (df[\"year\"] == date_df[\"YEAR\"]) & (df[\"month\"] == date_df[\"MONTH\"])) \\\n",
    "    .select(df[\"item_code\"], supplier_df[\"supplier_id\"], date_df[\"DATE_ID\"], df[\"retail_sales\"], df[\"retail_transfers\"], df[\"warehouse_sales\"]) \\\n",
    "    .dropDuplicates()\n",
    "\n",
    "# Lowercase column names for all DataFrames\n",
    "supplier_df = supplier_df.toDF(*[col.lower() for col in supplier_df.columns])\n",
    "item_df = item_df.toDF(*[col.lower() for col in item_df.columns])\n",
    "date_df = date_df.toDF(*[col.lower() for col in date_df.columns])\n",
    "fact_table = fact_table.toDF(*[col.lower() for col in fact_table.columns])\n",
    "\n",
    "# Show the resulting fact table\n",
    "fact_table.show()\n",
    "fact_table.count()\n"
   ]
  },
  {
   "cell_type": "code",
   "execution_count": 8,
   "id": "e75210a8-a53f-4043-acfc-c67d29bc818b",
   "metadata": {},
   "outputs": [
    {
     "name": "stdout",
     "output_type": "stream",
     "text": [
      "+--------------------+-----------+\n",
      "|            supplier|supplier_id|\n",
      "+--------------------+-----------+\n",
      "|  BARON FRANCOIS LTD|          1|\n",
      "|STE MICHELLE WINE...|          2|\n",
      "|AZIZ SHAFI TANNIC...|          3|\n",
      "|           PWSWN INC|          4|\n",
      "|  E & J GALLO WINERY|          5|\n",
      "+--------------------+-----------+\n",
      "only showing top 5 rows\n",
      "\n"
     ]
    },
    {
     "data": {
      "text/plain": [
       "397"
      ]
     },
     "execution_count": 8,
     "metadata": {},
     "output_type": "execute_result"
    }
   ],
   "source": [
    "supplier_df.show(5)\n",
    "supplier_df.count()"
   ]
  },
  {
   "cell_type": "code",
   "execution_count": 9,
   "id": "bd41d5b5-20cf-485a-8531-d6512c62133d",
   "metadata": {},
   "outputs": [
    {
     "name": "stderr",
     "output_type": "stream",
     "text": [
      "                                                                                \r"
     ]
    },
    {
     "name": "stdout",
     "output_type": "stream",
     "text": [
      "+---------+---------+--------------------+\n",
      "|item_code|item_type|    item_description|\n",
      "+---------+---------+--------------------+\n",
      "|    11274|     WINE|BLACKSTONE CALIF ...|\n",
      "|    11545|     BEER|BRECKENRIDGE MANG...|\n",
      "|    11860|   LIQUOR|ELIJAH CRAIG BOUR...|\n",
      "|    12709|     BEER|TWO ROADS PERSIAN...|\n",
      "|   134066|     WINE|TOMMASI LE ROSSE ...|\n",
      "+---------+---------+--------------------+\n",
      "only showing top 5 rows\n",
      "\n"
     ]
    },
    {
     "name": "stderr",
     "output_type": "stream",
     "text": [
      "                                                                                \r"
     ]
    },
    {
     "data": {
      "text/plain": [
       "35165"
      ]
     },
     "execution_count": 9,
     "metadata": {},
     "output_type": "execute_result"
    }
   ],
   "source": [
    "item_df.show(5)\n",
    "item_df.count()"
   ]
  },
  {
   "cell_type": "code",
   "execution_count": 10,
   "id": "c763fe95-5679-473f-b10e-ed059911fd58",
   "metadata": {},
   "outputs": [
    {
     "name": "stdout",
     "output_type": "stream",
     "text": [
      "+----+-----+-------+\n",
      "|year|month|date_id|\n",
      "+----+-----+-------+\n",
      "|2019|    5|      1|\n",
      "|2019|    1|      2|\n",
      "|2017|   10|      3|\n",
      "|2017|    6|      4|\n",
      "|2020|    3|      5|\n",
      "+----+-----+-------+\n",
      "only showing top 5 rows\n",
      "\n"
     ]
    },
    {
     "data": {
      "text/plain": [
       "24"
      ]
     },
     "execution_count": 10,
     "metadata": {},
     "output_type": "execute_result"
    }
   ],
   "source": [
    "date_df.show(5)\n",
    "date_df.count()"
   ]
  },
  {
   "cell_type": "code",
   "execution_count": 11,
   "id": "6e19f9a5-e690-471d-979c-09bf144a9eae",
   "metadata": {},
   "outputs": [],
   "source": [
    "# Convert to function\n",
    "def data_modeling(df):\n",
    "    ### Building the star schema\n",
    "    df.createOrReplaceTempView(\"df_view\")\n",
    "\n",
    "    # Supplier Dimension Table Creation\n",
    "    supplier_df = df.select(\"supplier\").dropDuplicates().withColumnRenamed(\"supplier\", \"SUPPLIER\").withColumn(\"supplier_id\", monotonically_increasing_id() + 1)\n",
    "    \n",
    "    # Item Dimension Table Creation\n",
    "    item_df = df.selectExpr(\"item_code\", \"item_type\", \"item_description\").dropDuplicates().withColumnRenamed(\"item_code\", \"ITEM_CODE\")\n",
    "    \n",
    "    # Date Dimension Table Creation\n",
    "    date_df = df.select(\"year\", \"month\").dropDuplicates().withColumnRenamed(\"year\", \"YEAR\").withColumnRenamed(\"month\", \"MONTH\").withColumn(\"DATE_ID\", monotonically_increasing_id() + 1)\n",
    "    \n",
    "    # Fact Table Creation\n",
    "    fact_table = df.join(supplier_df, \"SUPPLIER\") \\\n",
    "        .join(item_df, df[\"item_code\"] == item_df[\"ITEM_CODE\"]) \\\n",
    "        .join(date_df, (df[\"year\"] == date_df[\"YEAR\"]) & (df[\"month\"] == date_df[\"MONTH\"])) \\\n",
    "        .select(df[\"item_code\"], supplier_df[\"supplier_id\"], date_df[\"DATE_ID\"], df[\"retail_sales\"], df[\"retail_transfers\"], df[\"warehouse_sales\"]) \\\n",
    "        .dropDuplicates()\n",
    "\n",
    "    # Lowercase column names for all DataFrames\n",
    "    supplier_df = supplier_df.toDF(*[col.lower() for col in supplier_df.columns])\n",
    "    item_df = item_df.toDF(*[col.lower() for col in item_df.columns])\n",
    "    date_df = date_df.toDF(*[col.lower() for col in date_df.columns])\n",
    "    fact_table = fact_table.toDF(*[col.lower() for col in fact_table.columns])\n",
    "\n",
    "    return {\n",
    "        \"supplier\": supplier_df,\n",
    "        \"item\": item_df,\n",
    "        \"date\": date_df,\n",
    "        \"fact_table\": fact_table\n",
    "    }"
   ]
  },
  {
   "cell_type": "code",
   "execution_count": 12,
   "id": "bdca689d-e754-4436-8912-4537f920baa6",
   "metadata": {
    "scrolled": true
   },
   "outputs": [
    {
     "name": "stdout",
     "output_type": "stream",
     "text": [
      "Table: supplier\n",
      "+--------------------+-----------+\n",
      "|            supplier|supplier_id|\n",
      "+--------------------+-----------+\n",
      "|  BARON FRANCOIS LTD|          1|\n",
      "|STE MICHELLE WINE...|          2|\n",
      "|AZIZ SHAFI TANNIC...|          3|\n",
      "|           PWSWN INC|          4|\n",
      "|  E & J GALLO WINERY|          5|\n",
      "|HARVEST IMPORTING...|          6|\n",
      "|             A&E INC|          7|\n",
      "|DMV DISTRIBUTING LLC|          8|\n",
      "|VINTAGE VIRGINIA ...|          9|\n",
      "|LYON DISTILLING C...|         10|\n",
      "|             Default|         11|\n",
      "|  MACK & SCHUHLE INC|         12|\n",
      "|   MAISON JOMERE LTD|         13|\n",
      "|PAMPA BEVERAGES L...|         14|\n",
      "|THREE HENS LLC T/...|         15|\n",
      "|HEAVEN HILL DISTI...|         16|\n",
      "| PROXIMO SPIRITS INC|         17|\n",
      "|DUCKHORN WINE COM...|         18|\n",
      "|           OENOS LLC|         19|\n",
      "|   CHATEAU DIANA LLC|         20|\n",
      "+--------------------+-----------+\n",
      "only showing top 20 rows\n",
      "\n",
      "Table: item\n"
     ]
    },
    {
     "name": "stderr",
     "output_type": "stream",
     "text": [
      "                                                                                \r"
     ]
    },
    {
     "name": "stdout",
     "output_type": "stream",
     "text": [
      "+---------+---------+--------------------+\n",
      "|item_code|item_type|    item_description|\n",
      "+---------+---------+--------------------+\n",
      "|    11274|     WINE|BLACKSTONE CALIF ...|\n",
      "|    11545|     BEER|BRECKENRIDGE MANG...|\n",
      "|    11860|   LIQUOR|ELIJAH CRAIG BOUR...|\n",
      "|    12709|     BEER|TWO ROADS PERSIAN...|\n",
      "|   134066|     WINE|TOMMASI LE ROSSE ...|\n",
      "|    13846|     WINE|OXFORD LANDING S/...|\n",
      "|    16519|   LIQUOR|SAUZA TRES GEN AN...|\n",
      "|   242068|   LIQUOR|PAUL JOHN WHISKEY...|\n",
      "|   242076|   LIQUOR|REDNECK RIVIERA W...|\n",
      "|    26205|     BEER|NATURAL ICE CANS ...|\n",
      "|    26833|     BEER|BALTIMORE BEER WO...|\n",
      "|    27197|   LIQUOR|CHIVAS REGAL 12YR...|\n",
      "|    28579|     BEER|NOT YOUR FATHER'S...|\n",
      "|   302571|     WINE|SANTERO MANGO MOS...|\n",
      "|   304749|     WINE|BARTENURA OVADIA ...|\n",
      "|   311322|     WINE|BLACK BOX CAB TET...|\n",
      "|   311634|     WINE|MASTROBERARDINO L...|\n",
      "|   312924|     WINE|HEINZ EIFEL EISWE...|\n",
      "|   318502|     WINE|FISH HOUSE S/BLC ...|\n",
      "|   332218|     WINE|      EVOLET - 750ML|\n",
      "+---------+---------+--------------------+\n",
      "only showing top 20 rows\n",
      "\n",
      "Table: date\n",
      "+----+-----+-------+\n",
      "|year|month|date_id|\n",
      "+----+-----+-------+\n",
      "|2019|    5|      1|\n",
      "|2019|    1|      2|\n",
      "|2017|   10|      3|\n",
      "|2017|    6|      4|\n",
      "|2020|    3|      5|\n",
      "|2020|    9|      6|\n",
      "|2017|   11|      7|\n",
      "|2019|    6|      8|\n",
      "|2019|    4|      9|\n",
      "|2019|    3|     10|\n",
      "|2020|    1|     11|\n",
      "|2017|   12|     12|\n",
      "|2020|    7|     13|\n",
      "|2019|    2|     14|\n",
      "|2018|    1|     15|\n",
      "|2018|    2|     16|\n",
      "|2019|    7|     17|\n",
      "|2017|    8|     18|\n",
      "|2019|    8|     19|\n",
      "|2017|    9|     20|\n",
      "+----+-----+-------+\n",
      "only showing top 20 rows\n",
      "\n",
      "Table: fact_table\n"
     ]
    },
    {
     "name": "stderr",
     "output_type": "stream",
     "text": [
      "[Stage 77:=============================>                            (1 + 1) / 2]\r"
     ]
    },
    {
     "name": "stdout",
     "output_type": "stream",
     "text": [
      "+---------+-----------+-------+------------+----------------+---------------+\n",
      "|item_code|supplier_id|date_id|retail_sales|retail_transfers|warehouse_sales|\n",
      "+---------+-----------+-------+------------+----------------+---------------+\n",
      "|    12483|        286|     11|         0.0|             0.0|            8.0|\n",
      "|    12527|        268|     11|       12.67|            14.0|            0.0|\n",
      "|    12976|        386|     11|        1.75|             3.0|           24.0|\n",
      "|    13722|         68|     11|        0.24|             0.0|            0.0|\n",
      "|   166280|        157|     11|        1.05|             1.0|            2.0|\n",
      "|    17000|        217|     11|       29.29|            28.0|            3.0|\n",
      "|    18104|        275|     11|        1.01|             1.0|            0.0|\n",
      "|   185515|        376|     11|        1.32|             2.0|           26.0|\n",
      "|   232662|        265|     11|        0.24|             0.0|           13.0|\n",
      "|    23433|        353|     11|        31.5|            57.0|          141.0|\n",
      "|   238206|        376|     11|         0.0|             0.0|            2.0|\n",
      "|    29333|        286|     11|         0.0|             0.0|            3.0|\n",
      "|   300588|        211|     11|        1.96|             1.0|            7.0|\n",
      "|   303345|        376|     11|         0.0|             0.0|            4.0|\n",
      "|    31167|         33|     11|        3.75|             5.0|           29.0|\n",
      "|   312219|        295|     11|        1.24|             0.0|            0.0|\n",
      "|   313530|        206|     11|         0.0|             0.0|           15.0|\n",
      "|   317984|        376|     11|         0.0|             0.0|           19.0|\n",
      "|   325165|        170|     11|         0.0|             0.0|            9.0|\n",
      "|   339796|         48|     11|         0.0|             0.0|            5.0|\n",
      "+---------+-----------+-------+------------+----------------+---------------+\n",
      "only showing top 20 rows\n",
      "\n"
     ]
    },
    {
     "name": "stderr",
     "output_type": "stream",
     "text": [
      "                                                                                \r"
     ]
    }
   ],
   "source": [
    "# Call the data_modeling function and store the result in dict_tables\n",
    "star_schema = data_modeling(df)\n",
    "\n",
    "# Print the output of the data_modeling function\n",
    "for key, value in star_schema.items():\n",
    "    print(f\"Table: {key}\")\n",
    "    value.show()"
   ]
  },
  {
   "cell_type": "markdown",
   "id": "76448df2-35ab-441e-8c23-f4c074e0eac6",
   "metadata": {},
   "source": [
    "## Write star schema tables to GCS bucket"
   ]
  },
  {
   "cell_type": "code",
   "execution_count": 13,
   "id": "83706dab-a767-4372-8ac0-11801b40a318",
   "metadata": {},
   "outputs": [
    {
     "name": "stderr",
     "output_type": "stream",
     "text": [
      "                                                                                \r"
     ]
    },
    {
     "name": "stdout",
     "output_type": "stream",
     "text": [
      "Table 'supplier' saved to GCS at: gs://woven-edge-412500-de-retail-sales-bucket/star-schema/supplier/\n"
     ]
    },
    {
     "name": "stderr",
     "output_type": "stream",
     "text": [
      "                                                                                \r"
     ]
    },
    {
     "name": "stdout",
     "output_type": "stream",
     "text": [
      "Table 'item' saved to GCS at: gs://woven-edge-412500-de-retail-sales-bucket/star-schema/item/\n"
     ]
    },
    {
     "name": "stderr",
     "output_type": "stream",
     "text": [
      "                                                                                \r"
     ]
    },
    {
     "name": "stdout",
     "output_type": "stream",
     "text": [
      "Table 'date' saved to GCS at: gs://woven-edge-412500-de-retail-sales-bucket/star-schema/date/\n"
     ]
    },
    {
     "name": "stderr",
     "output_type": "stream",
     "text": [
      "                                                                                \r"
     ]
    },
    {
     "name": "stdout",
     "output_type": "stream",
     "text": [
      "Table 'fact_table' saved to GCS at: gs://woven-edge-412500-de-retail-sales-bucket/star-schema/fact_table/\n"
     ]
    }
   ],
   "source": [
    "# Define the GCS path where you want to save the Parquet files\n",
    "gcs_output_path = \"gs://woven-edge-412500-de-retail-sales-bucket/star-schema/\"\n",
    "\n",
    "# Save each table to GCS as Parquet files\n",
    "for table_name, dataframe in star_schema.items():\n",
    "    # Define the full GCS path for the table\n",
    "    table_gcs_path = f\"{gcs_output_path}{table_name}/\"\n",
    "    \n",
    "    # Write the DataFrame to GCS as Parquet files\n",
    "    dataframe.write.parquet(table_gcs_path, mode=\"overwrite\")\n",
    "\n",
    "    print(f\"Table '{table_name}' saved to GCS at: {table_gcs_path}\")\n"
   ]
  },
  {
   "cell_type": "code",
   "execution_count": null,
   "id": "6d41552c-cd76-4f51-a55b-b2290bbc8175",
   "metadata": {},
   "outputs": [],
   "source": []
  },
  {
   "cell_type": "markdown",
   "id": "35a81540-6036-439a-8992-0cacf5ee4338",
   "metadata": {},
   "source": [
    "## Write tables to bigquery DWH"
   ]
  },
  {
   "cell_type": "code",
   "execution_count": 14,
   "id": "8140f621-cb3d-4e32-abd8-a0ce4806d482",
   "metadata": {},
   "outputs": [],
   "source": [
    "# # Call the data_modeling function and store the result in dict_tables\n",
    "# star_schema = data_modeling(df)\n",
    "\n",
    "# # Define BigQuery dataset and table names\n",
    "# dataset_id = 'de_retail_sales_data'  \n",
    "# table_dataframes = {\n",
    "#     \"supplier\": star_schema[\"supplier\"],\n",
    "#     \"item\": star_schema[\"item\"],\n",
    "#     \"date\": star_schema[\"date\"],\n",
    "#     \"fact_table\": star_schema[\"fact_table\"]\n",
    "# }\n",
    "\n",
    "# # Load data into BigQuery tables using Spark\n",
    "# for table_name, dataframe in table_dataframes.items():\n",
    "#     full_table_name = f'{project_id}.{dataset_id}.{table_name}'\n",
    "#     dataframe.write \\\n",
    "#         .format('bigquery') \\\n",
    "#         .option('table', full_table_name) \\\n",
    "#         .mode('overwrite') \\\n",
    "#         .save()\n",
    "\n",
    "#     print(f\"Data loaded into BigQuery table: {full_table_name}\")\n"
   ]
  },
  {
   "cell_type": "code",
   "execution_count": null,
   "id": "dccbd6d2-47f4-4cb0-8dcc-7a61f49ce180",
   "metadata": {},
   "outputs": [],
   "source": []
  }
 ],
 "metadata": {
  "kernelspec": {
   "display_name": "Python 3 (ipykernel)",
   "language": "python",
   "name": "python3"
  },
  "language_info": {
   "codemirror_mode": {
    "name": "ipython",
    "version": 3
   },
   "file_extension": ".py",
   "mimetype": "text/x-python",
   "name": "python",
   "nbconvert_exporter": "python",
   "pygments_lexer": "ipython3",
   "version": "3.10.13"
  }
 },
 "nbformat": 4,
 "nbformat_minor": 5
}
